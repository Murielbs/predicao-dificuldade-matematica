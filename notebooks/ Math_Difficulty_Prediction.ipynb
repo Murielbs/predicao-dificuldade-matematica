{
 "cells": [
  {
   "cell_type": "code",
   "execution_count": null,
   "id": "67b81f22",
   "metadata": {
    "vscode": {
     "languageId": "plaintext"
    }
   },
   "outputs": [],
   "source": [
    "import pandas as pd\n",
    "import matplotlib.pyplot as plt\n",
    "\n",
    "# Carregar dataset\n",
    "url = \"https://archive.ics.uci.edu/ml/machine-learning-databases/00320/student.zip\"\n",
    "df = pd.read_csv(url, sep=\";\")\n",
    "\n",
    "# Criar variável alvo (dificuldade = 1 se nota G3 < 10)\n",
    "df['math_difficulty'] = df['G3'].apply(lambda x: 1 if x < 10 else 0)"
   ]
  },
  {
   "cell_type": "code",
   "execution_count": null,
   "id": "fb74b23f",
   "metadata": {
    "vscode": {
     "languageId": "plaintext"
    }
   },
   "outputs": [],
   "source": [
    "# Gráfico de distribuição da dificuldade\n",
    "df['math_difficulty'].value_counts().plot(kind='bar', color=['skyblue', 'salmon'])\n",
    "plt.title('Distribuição de Dificuldade em Matemática')\n",
    "plt.show()"
   ]
  },
  {
   "cell_type": "code",
   "execution_count": null,
   "id": "768f5a4f",
   "metadata": {
    "vscode": {
     "languageId": "plaintext"
    }
   },
   "outputs": [],
   "source": [
    "from sklearn.preprocessing import StandardScaler, LabelEncoder\n",
    "\n",
    "# Selecionar features (10 variáveis)\n",
    "features = ['sex', 'age', 'Medu', 'Fedu', 'studytime', 'failures', 'absences', 'G1', 'G2', 'goout']\n",
    "X = df[features]\n",
    "y = df['math_difficulty']\n",
    "\n",
    "# Codificar 'sex' (F=0, M=1)\n",
    "X['sex'] = LabelEncoder().fit_transform(X['sex'])\n",
    "\n",
    "# Normalizar dados\n",
    "scaler = StandardScaler()\n",
    "X_scaled = scaler.fit_transform(X)"
   ]
  },
  {
   "cell_type": "code",
   "execution_count": null,
   "id": "091b95e0",
   "metadata": {
    "vscode": {
     "languageId": "plaintext"
    }
   },
   "outputs": [],
   "source": [
    "from sklearn.ensemble import RandomForestClassifier\n",
    "from sklearn.linear_model import LogisticRegression\n",
    "from sklearn.model_selection import train_test_split\n",
    "\n",
    "# Dividir dados\n",
    "X_train, X_test, y_train, y_test = train_test_split(X_scaled, y, test_size=0.3, random_state=42)\n",
    "\n",
    "# Treinar modelos\n",
    "rf = RandomForestClassifier().fit(X_train, y_train)\n",
    "lr = LogisticRegression().fit(X_train, y_train)"
   ]
  },
  {
   "cell_type": "code",
   "execution_count": null,
   "id": "012ebf06",
   "metadata": {
    "vscode": {
     "languageId": "plaintext"
    }
   },
   "outputs": [],
   "source": [
    "from sklearn.metrics import accuracy_score\n",
    "\n",
    "# Acurácia\n",
    "print(\"Random Forest:\", accuracy_score(y_test, rf.predict(X_test)))\n",
    "print(\"Regressão Logística:\", accuracy_score(y_test, lr.predict(X_test)))"
   ]
  },
  {
   "cell_type": "code",
   "execution_count": null,
   "id": "714569bd",
   "metadata": {
    "vscode": {
     "languageId": "plaintext"
    }
   },
   "outputs": [],
   "source": []
  }
 ],
 "metadata": {
  "language_info": {
   "name": "python"
  }
 },
 "nbformat": 4,
 "nbformat_minor": 5
}
